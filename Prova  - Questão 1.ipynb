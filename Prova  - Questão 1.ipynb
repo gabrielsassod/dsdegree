{
 "cells": [
  {
   "cell_type": "code",
   "execution_count": null,
   "id": "cf19c576",
   "metadata": {},
   "outputs": [],
   "source": [
    "##### QUESTÃO 1 #####"
   ]
  },
  {
   "cell_type": "code",
   "execution_count": 7,
   "id": "6837a753",
   "metadata": {},
   "outputs": [],
   "source": [
    "import pandas as pd\n"
   ]
  },
  {
   "cell_type": "code",
   "execution_count": 15,
   "id": "9fecebf5",
   "metadata": {},
   "outputs": [],
   "source": [
    "#colocando o aquivo no meu github e importando\n",
    "# link -> https://github.com/gabrielsassod/dsdegree\n",
    "\n",
    "path='https://raw.githubusercontent.com/gabrielsassod/dsdegree/main/gas.csv'\n",
    "\n",
    "dataframe1=pd.read_csv(path)\n"
   ]
  },
  {
   "cell_type": "code",
   "execution_count": 16,
   "id": "3f690478",
   "metadata": {},
   "outputs": [
    {
     "data": {
      "text/html": [
       "<div>\n",
       "<style scoped>\n",
       "    .dataframe tbody tr th:only-of-type {\n",
       "        vertical-align: middle;\n",
       "    }\n",
       "\n",
       "    .dataframe tbody tr th {\n",
       "        vertical-align: top;\n",
       "    }\n",
       "\n",
       "    .dataframe thead th {\n",
       "        text-align: right;\n",
       "    }\n",
       "</style>\n",
       "<table border=\"1\" class=\"dataframe\">\n",
       "  <thead>\n",
       "    <tr style=\"text-align: right;\">\n",
       "      <th></th>\n",
       "      <th>DATE</th>\n",
       "      <th>IPG2211A2N</th>\n",
       "    </tr>\n",
       "  </thead>\n",
       "  <tbody>\n",
       "    <tr>\n",
       "      <th>0</th>\n",
       "      <td>1939-01-01</td>\n",
       "      <td>3.3842</td>\n",
       "    </tr>\n",
       "    <tr>\n",
       "      <th>1</th>\n",
       "      <td>1939-02-01</td>\n",
       "      <td>3.4100</td>\n",
       "    </tr>\n",
       "    <tr>\n",
       "      <th>2</th>\n",
       "      <td>1939-03-01</td>\n",
       "      <td>3.4875</td>\n",
       "    </tr>\n",
       "    <tr>\n",
       "      <th>3</th>\n",
       "      <td>1939-04-01</td>\n",
       "      <td>3.5133</td>\n",
       "    </tr>\n",
       "    <tr>\n",
       "      <th>4</th>\n",
       "      <td>1939-05-01</td>\n",
       "      <td>3.5133</td>\n",
       "    </tr>\n",
       "    <tr>\n",
       "      <th>...</th>\n",
       "      <td>...</td>\n",
       "      <td>...</td>\n",
       "    </tr>\n",
       "    <tr>\n",
       "      <th>960</th>\n",
       "      <td>2019-01-01</td>\n",
       "      <td>123.7687</td>\n",
       "    </tr>\n",
       "    <tr>\n",
       "      <th>961</th>\n",
       "      <td>2019-02-01</td>\n",
       "      <td>113.0736</td>\n",
       "    </tr>\n",
       "    <tr>\n",
       "      <th>962</th>\n",
       "      <td>2019-03-01</td>\n",
       "      <td>106.6538</td>\n",
       "    </tr>\n",
       "    <tr>\n",
       "      <th>963</th>\n",
       "      <td>2019-04-01</td>\n",
       "      <td>88.6460</td>\n",
       "    </tr>\n",
       "    <tr>\n",
       "      <th>964</th>\n",
       "      <td>2019-05-01</td>\n",
       "      <td>92.3776</td>\n",
       "    </tr>\n",
       "  </tbody>\n",
       "</table>\n",
       "<p>965 rows × 2 columns</p>\n",
       "</div>"
      ],
      "text/plain": [
       "           DATE  IPG2211A2N\n",
       "0    1939-01-01      3.3842\n",
       "1    1939-02-01      3.4100\n",
       "2    1939-03-01      3.4875\n",
       "3    1939-04-01      3.5133\n",
       "4    1939-05-01      3.5133\n",
       "..          ...         ...\n",
       "960  2019-01-01    123.7687\n",
       "961  2019-02-01    113.0736\n",
       "962  2019-03-01    106.6538\n",
       "963  2019-04-01     88.6460\n",
       "964  2019-05-01     92.3776\n",
       "\n",
       "[965 rows x 2 columns]"
      ]
     },
     "execution_count": 16,
     "metadata": {},
     "output_type": "execute_result"
    }
   ],
   "source": [
    "dataframe1"
   ]
  },
  {
   "cell_type": "code",
   "execution_count": 17,
   "id": "be949ed1",
   "metadata": {},
   "outputs": [
    {
     "data": {
      "text/html": [
       "<div>\n",
       "<style scoped>\n",
       "    .dataframe tbody tr th:only-of-type {\n",
       "        vertical-align: middle;\n",
       "    }\n",
       "\n",
       "    .dataframe tbody tr th {\n",
       "        vertical-align: top;\n",
       "    }\n",
       "\n",
       "    .dataframe thead th {\n",
       "        text-align: right;\n",
       "    }\n",
       "</style>\n",
       "<table border=\"1\" class=\"dataframe\">\n",
       "  <thead>\n",
       "    <tr style=\"text-align: right;\">\n",
       "      <th></th>\n",
       "      <th>DATE</th>\n",
       "      <th>IPG2211A2N</th>\n",
       "    </tr>\n",
       "  </thead>\n",
       "  <tbody>\n",
       "    <tr>\n",
       "      <th>0</th>\n",
       "      <td>1939-01-01</td>\n",
       "      <td>3.3842</td>\n",
       "    </tr>\n",
       "    <tr>\n",
       "      <th>1</th>\n",
       "      <td>1939-02-01</td>\n",
       "      <td>3.4100</td>\n",
       "    </tr>\n",
       "    <tr>\n",
       "      <th>2</th>\n",
       "      <td>1939-03-01</td>\n",
       "      <td>3.4875</td>\n",
       "    </tr>\n",
       "    <tr>\n",
       "      <th>3</th>\n",
       "      <td>1939-04-01</td>\n",
       "      <td>3.5133</td>\n",
       "    </tr>\n",
       "    <tr>\n",
       "      <th>4</th>\n",
       "      <td>1939-05-01</td>\n",
       "      <td>3.5133</td>\n",
       "    </tr>\n",
       "  </tbody>\n",
       "</table>\n",
       "</div>"
      ],
      "text/plain": [
       "         DATE  IPG2211A2N\n",
       "0  1939-01-01      3.3842\n",
       "1  1939-02-01      3.4100\n",
       "2  1939-03-01      3.4875\n",
       "3  1939-04-01      3.5133\n",
       "4  1939-05-01      3.5133"
      ]
     },
     "execution_count": 17,
     "metadata": {},
     "output_type": "execute_result"
    }
   ],
   "source": [
    "#1\n",
    "dataframe1.head()"
   ]
  },
  {
   "cell_type": "code",
   "execution_count": 35,
   "id": "f110d9e8",
   "metadata": {},
   "outputs": [
    {
     "name": "stdout",
     "output_type": "stream",
     "text": [
      "A menor emissão foi:\n",
      " DATE          1939-01-01\n",
      "IPG2211A2N        3.3842\n",
      "dtype: object\n",
      "\n",
      "\n",
      "A maior emissão foi:\n",
      " DATE          2019-05-01\n",
      "IPG2211A2N      128.9071\n",
      "dtype: object\n",
      "\n",
      "\n",
      "A menor emissão foi:\n",
      " 3.3842\n",
      "\n",
      "\n",
      "A maior emissão foi:\n",
      " 128.9071\n"
     ]
    }
   ],
   "source": [
    "#2\n",
    "print(f'A menor emissão foi:\\n {dataframe1.min()}')\n",
    "print('\\n')\n",
    "print(f'A maior emissão foi:\\n {dataframe1.max()}')\n",
    "\n",
    "#ou\n",
    "print('\\n')\n",
    "\n",
    "print('A menor emissão foi:\\n {}'.format(dataframe1['IPG2211A2N'].min()))\n",
    "print('\\n')\n",
    "print('A maior emissão foi:\\n {}'.format(dataframe1['IPG2211A2N'].max()))\n"
   ]
  },
  {
   "cell_type": "code",
   "execution_count": 48,
   "id": "48f89444",
   "metadata": {},
   "outputs": [
    {
     "name": "stdout",
     "output_type": "stream",
     "text": [
      "int64\n"
     ]
    }
   ],
   "source": [
    "#3\n",
    "import datetime as dt\n",
    "\n",
    "#transformando a coluna DATE em timestamp\n",
    "dataframe1['DATE'] = pd.to_datetime(dataframe1['DATE'], format='%Y-%m-%d' )\n",
    "\n",
    "#criar uma coluna Ano\n",
    "dataframe1['Ano'] = dataframe1['DATE'].dt.year\n",
    "\n",
    "#certificando que type do ano é int\n",
    "print(dataframe1['Ano'].dtype)"
   ]
  },
  {
   "cell_type": "code",
   "execution_count": 49,
   "id": "f4c7e91d",
   "metadata": {},
   "outputs": [
    {
     "data": {
      "text/html": [
       "<div>\n",
       "<style scoped>\n",
       "    .dataframe tbody tr th:only-of-type {\n",
       "        vertical-align: middle;\n",
       "    }\n",
       "\n",
       "    .dataframe tbody tr th {\n",
       "        vertical-align: top;\n",
       "    }\n",
       "\n",
       "    .dataframe thead th {\n",
       "        text-align: right;\n",
       "    }\n",
       "</style>\n",
       "<table border=\"1\" class=\"dataframe\">\n",
       "  <thead>\n",
       "    <tr style=\"text-align: right;\">\n",
       "      <th></th>\n",
       "      <th>DATE</th>\n",
       "      <th>IPG2211A2N</th>\n",
       "      <th>Ano</th>\n",
       "    </tr>\n",
       "  </thead>\n",
       "  <tbody>\n",
       "    <tr>\n",
       "      <th>0</th>\n",
       "      <td>1939-01-01</td>\n",
       "      <td>3.3842</td>\n",
       "      <td>1939</td>\n",
       "    </tr>\n",
       "    <tr>\n",
       "      <th>1</th>\n",
       "      <td>1939-02-01</td>\n",
       "      <td>3.4100</td>\n",
       "      <td>1939</td>\n",
       "    </tr>\n",
       "    <tr>\n",
       "      <th>2</th>\n",
       "      <td>1939-03-01</td>\n",
       "      <td>3.4875</td>\n",
       "      <td>1939</td>\n",
       "    </tr>\n",
       "    <tr>\n",
       "      <th>3</th>\n",
       "      <td>1939-04-01</td>\n",
       "      <td>3.5133</td>\n",
       "      <td>1939</td>\n",
       "    </tr>\n",
       "    <tr>\n",
       "      <th>4</th>\n",
       "      <td>1939-05-01</td>\n",
       "      <td>3.5133</td>\n",
       "      <td>1939</td>\n",
       "    </tr>\n",
       "    <tr>\n",
       "      <th>...</th>\n",
       "      <td>...</td>\n",
       "      <td>...</td>\n",
       "      <td>...</td>\n",
       "    </tr>\n",
       "    <tr>\n",
       "      <th>960</th>\n",
       "      <td>2019-01-01</td>\n",
       "      <td>123.7687</td>\n",
       "      <td>2019</td>\n",
       "    </tr>\n",
       "    <tr>\n",
       "      <th>961</th>\n",
       "      <td>2019-02-01</td>\n",
       "      <td>113.0736</td>\n",
       "      <td>2019</td>\n",
       "    </tr>\n",
       "    <tr>\n",
       "      <th>962</th>\n",
       "      <td>2019-03-01</td>\n",
       "      <td>106.6538</td>\n",
       "      <td>2019</td>\n",
       "    </tr>\n",
       "    <tr>\n",
       "      <th>963</th>\n",
       "      <td>2019-04-01</td>\n",
       "      <td>88.6460</td>\n",
       "      <td>2019</td>\n",
       "    </tr>\n",
       "    <tr>\n",
       "      <th>964</th>\n",
       "      <td>2019-05-01</td>\n",
       "      <td>92.3776</td>\n",
       "      <td>2019</td>\n",
       "    </tr>\n",
       "  </tbody>\n",
       "</table>\n",
       "<p>965 rows × 3 columns</p>\n",
       "</div>"
      ],
      "text/plain": [
       "          DATE  IPG2211A2N   Ano\n",
       "0   1939-01-01      3.3842  1939\n",
       "1   1939-02-01      3.4100  1939\n",
       "2   1939-03-01      3.4875  1939\n",
       "3   1939-04-01      3.5133  1939\n",
       "4   1939-05-01      3.5133  1939\n",
       "..         ...         ...   ...\n",
       "960 2019-01-01    123.7687  2019\n",
       "961 2019-02-01    113.0736  2019\n",
       "962 2019-03-01    106.6538  2019\n",
       "963 2019-04-01     88.6460  2019\n",
       "964 2019-05-01     92.3776  2019\n",
       "\n",
       "[965 rows x 3 columns]"
      ]
     },
     "execution_count": 49,
     "metadata": {},
     "output_type": "execute_result"
    }
   ],
   "source": [
    "# Até agora está assim:\n",
    "dataframe1 "
   ]
  },
  {
   "cell_type": "code",
   "execution_count": 156,
   "id": "b497af67",
   "metadata": {},
   "outputs": [
    {
     "name": "stdout",
     "output_type": "stream",
     "text": [
      "      IPG2211A2N\n",
      "Ano             \n",
      "1939    3.582217\n",
      "1940    3.950358\n",
      "1941    4.456242\n",
      "1942    5.005225\n",
      "1943    5.530525\n",
      "...          ...\n",
      "2015  102.741442\n",
      "2016  102.296433\n",
      "2017  101.516308\n",
      "2018  105.929333\n",
      "2019  104.903940\n",
      "\n",
      "[81 rows x 1 columns]\n",
      "\n",
      "\n",
      "A maior média e seu ano respectivo foi: \n",
      "      IPG2211A2N\n",
      "Ano             \n",
      "2018  105.929333\n"
     ]
    }
   ],
   "source": [
    "#4\n",
    "#criando um dataframe das médias dos anos por agrupamento \n",
    "mediadf = dataframe1.groupby(['Ano'])['IPG2211A2N'].mean()\n",
    "mediadf=pd.DataFrame(mediadf)\n",
    "#mediadf['Ano']= mediadf.groupby(['Ano'])\n",
    "print(mediadf)\n",
    "\n",
    "\n",
    "print('\\n')\n",
    "\n",
    "\n",
    "# percorrendo e analisando o df para saber em qual ano obteve a maior média\n",
    "\n",
    "print('A maior média e seu ano respectivo foi: ')\n",
    "  \n",
    "print(mediadf[mediadf['IPG2211A2N']== mediadf['IPG2211A2N'].max()])\n",
    "    "
   ]
  },
  {
   "cell_type": "code",
   "execution_count": 225,
   "id": "c98a15cf",
   "metadata": {},
   "outputs": [
    {
     "data": {
      "image/png": "[encoded data removed]",
      "text/plain": [
       "<Figure size 576x432 with 1 Axes>"
      ]
     },
     "metadata": {
      "needs_background": "light"
     },
     "output_type": "display_data"
    }
   ],
   "source": [
    "#5\n",
    "import matplotlib.pyplot as plt\n",
    "import numpy as np\n",
    "\n",
    "height = mediadf['IPG2211A2N'].tail(40)\n",
    "bars =np.arange(1980, 2020)\n",
    "\n",
    "plt.bar(bars, height)\n",
    "\n",
    "plt.xticks(bars, bars)\n",
    "plt.rcParams['figure.figsize']=(1,6)\n",
    "plt.show()"
   ]
  },
  {
   "cell_type": "code",
   "execution_count": 228,
   "id": "c5588de8",
   "metadata": {},
   "outputs": [],
   "source": []
  },
  {
   "cell_type": "code",
   "execution_count": null,
   "id": "d6d5992f",
   "metadata": {},
   "outputs": [],
   "source": []
  }
 ],
 "metadata": {
  "kernelspec": {
   "display_name": "Python 3",
   "language": "python",
   "name": "python3"
  },
  "language_info": {
   "codemirror_mode": {
    "name": "ipython",
    "version": 3
   },
   "file_extension": ".py",
   "mimetype": "text/x-python",
   "name": "python",
   "nbconvert_exporter": "python",
   "pygments_lexer": "ipython3",
   "version": "3.8.8"
  }
 },
 "nbformat": 4,
 "nbformat_minor": 5
}
